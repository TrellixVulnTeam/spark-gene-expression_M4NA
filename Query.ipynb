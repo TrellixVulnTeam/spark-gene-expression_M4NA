{
 "cells": [
  {
   "cell_type": "code",
   "execution_count": 3,
   "metadata": {
    "collapsed": true
   },
   "outputs": [],
   "source": [
    "import requests\n",
    "import json\n",
    "import re\n",
    "import gzip\n",
    "import pandas as pd\n",
    "import tarfile\n",
    "import os\n",
    "import sys\n",
    "import shutil\n",
    "import numpy as np\n",
    "import tarfile\n",
    "import io\n",
    "from io import StringIO"
   ]
  },
  {
   "cell_type": "code",
   "execution_count": 56,
   "metadata": {
    "collapsed": false
   },
   "outputs": [],
   "source": [
    "#Generates a folder to store the data portal gene expression data if none exits\n",
    "if not os.path.exists(os.path.join(os.getcwd(),\"data\")):\n",
    "    os.makedirs(os.getcwd(),\"data\")"
   ]
  },
  {
   "cell_type": "code",
   "execution_count": 239,
   "metadata": {
    "collapsed": false
   },
   "outputs": [],
   "source": [
    "class gdc_data:\n",
    "    '''\n",
    "    Creates data objects that can query the gdc data portal for gene expression data,\n",
    "    write compressed data from portal to disk, and uncompress and store the gene expression\n",
    "    data in a pandas dataframe (gene x sample_id)\n",
    "    '''\n",
    "    \n",
    "    def __init__(self, name):\n",
    "        #Initialize the type of cancer for the database query and the size of query\n",
    "        self.name = name\n",
    "        #initialize gene epression data matrix\n",
    "        self.data = pd.DataFrame()\n",
    "        #Initialize empty manifest data matrix\n",
    "        self.manifest = pd.DataFrame()\n",
    "        #Initialize the location for the data directory\n",
    "        self.main_dir = os.path.join(os.getcwd(),\"data\")\n",
    "        self.query_dir = os.path.join(self.main_dir,self.name)\n",
    "        #Initialize empty file name\n",
    "        self.file_name = []\n",
    "        #Initialize an empty http reponse\n",
    "        self.response = []\n",
    "        #Initialize variable for size of query\n",
    "        self.size = []\n",
    "\n",
    "    def data_query(self):\n",
    "        '''\n",
    "        Performs a query of the NCI genomic portal given a type of cancer.\n",
    "        Ex. Type: Hepatocellular Carcinoma - LIHC\n",
    "        Name followed by no. of samples desired. Ex. LIHC10 returns gene expression for first 10 samples \n",
    "        Returns the name of compressed tar.gz file, and a binary data file in memory\n",
    "        '''\n",
    "        \n",
    "        files_endpt = \"https://api.gdc.cancer.gov/files\"\n",
    "        \n",
    "        cancer = ''.join([x for x in self.name if not x.isdigit()])\n",
    "        size = ''.join([x for x in self.name if x.isdigit()])\n",
    "        #If the size of the query was not specified, acquire data for all samples\n",
    "        if not size.isdigit():\n",
    "            size = 2000\n",
    "    \n",
    "        #Filters for the query, recieving all RNA-Seq, HTSeq-Count files for a specific cancer\n",
    "        filters = {\n",
    "            \"op\": \"and\",\n",
    "            \"content\":[\n",
    "                {\n",
    "                \"op\": \"in\",\n",
    "                \"content\":{\n",
    "                    \"field\": \"cases.project.project_id\",\n",
    "                    \"value\": [\"TCGA-\"+cancer]\n",
    "                    }\n",
    "                },\n",
    "                {\n",
    "                \"op\": \"in\",\n",
    "                \"content\":{\n",
    "                    \"field\": \"files.experimental_strategy\",\n",
    "                    \"value\": [\"RNA-Seq\"]\n",
    "                    }\n",
    "                },\n",
    "                {\n",
    "                \"op\": \"in\",\n",
    "                \"content\":{\n",
    "                    \"field\": \"files.analysis.workflow_type\",\n",
    "                    \"value\": [\"HTSeq - Counts\"]\n",
    "                    }\n",
    "                }\n",
    "            ]\n",
    "        }\n",
    "\n",
    "        # Here a GET is used, so the filter parameters should be passed as a JSON string.\n",
    "        params = {\n",
    "            \"filters\": json.dumps(filters),\n",
    "            \"fields\": \"file_id\",\n",
    "            \"format\": \"JSON\",\n",
    "            \"size\": size  #Set to the first 10 files for developing\n",
    "            }\n",
    "\n",
    "        response = requests.get(files_endpt, params = params)\n",
    "        file_uuid_list = []\n",
    "\n",
    "        # This step populates the download list with the file_ids from the previous query\n",
    "        for file_entry in json.loads(response.content.decode(\"utf-8\"))[\"data\"][\"hits\"]:\n",
    "            file_uuid_list.append(file_entry[\"file_id\"])\n",
    "\n",
    "        data_endpt = \"https://api.gdc.cancer.gov/data\"\n",
    "\n",
    "        params = {\"ids\": file_uuid_list}\n",
    "        #Acquire memory location of compressed data from the data portal\n",
    "        response = requests.post(data_endpt, data = json.dumps(params), headers = {\"Content-Type\": \"application/json\"})\n",
    "        \n",
    "        response_head_cd = response.headers[\"Content-Disposition\"]\n",
    "        #Acquire the name of the file \n",
    "        file_name = re.findall(\"filename=(.+)\", response_head_cd)[0]\n",
    "\n",
    "        self.file_name = file_name\n",
    "        self.response = response\n",
    "        \n",
    "    def data_write(self):\n",
    "        \n",
    "        #Performs data query if filename and response have not been populated yet\n",
    "        if not self.file_name and not self.response:\n",
    "            self.data_query()\n",
    "        \n",
    "        #Create a path for this query if it doesnt exist already\n",
    "        if not os.path.exists(self.query_dir):\n",
    "            os.makedirs(self.query_dir)\n",
    "            \n",
    "        #desired location of compressed data targz file\n",
    "        targz = os.path.join(self.query_dir,file_name)    \n",
    "        #Opens a file named after the file_name, and writes the contents of the query to the file    \n",
    "        with open(targz, \"wb\") as output_file:\n",
    "            output_file.write(self.response.content) #writes the response to the desired location\n",
    "        \n",
    "        self.data_write_targz()\n",
    "           \n",
    "    def data_write_targz(self):\n",
    "        \n",
    "        #Performs data query and write if filename and response have not been populated yet\n",
    "        if not self.file_name and not self.response:\n",
    "            self.data_query()\n",
    "            self.data_write\n",
    "            \n",
    "        #desired location of compressed data targz file\n",
    "        targz = os.path.join(self.query_dir,file_name)  \n",
    "        \n",
    "        #Create a path for this uncompressed targz files if it doesnt exist already\n",
    "        uncomp_targz_dir = os.path.join(self.query_dir,\"uncompressed_targz\")\n",
    "        if not os.path.exists(uncomp_targz_dir):\n",
    "            os.makedirs(uncomp_targz_dir)\n",
    "        #Unzips the tar.gz file into desired folder\n",
    "        with tarfile.open(targz) as tar:\n",
    "            tar.extractall(uncomp_targz_dir)\n",
    "            tar.close()\n",
    "        #Stores the manifest of the data \n",
    "        self.manifest = pd.read_table(os.path.join(uncomp_targz_dir,\"MANIFEST.txt\"),sep=\"\\t\")\n",
    "        \n",
    "        #Create a path for this uncompressed gz files if it doesnt exist already\n",
    "        uncomp_gz_dir = os.path.join(uncomp_targz_dir,\"uncompressed_gz\")\n",
    "        if not os.path.exists(uncomp_gz_dir):\n",
    "            os.makedirs(uncomp_gz_dir)\n",
    "        \n",
    "        #Unzips all gz gene expression files in the query directory\n",
    "        for subdir, dirs, files in os.walk(self.query_dir):\n",
    "            for file in files:\n",
    "                if file[-4:] == \"s.gz\":\n",
    "                    with gzip.open(os.path.join(subdir,file),'rb') as f:\n",
    "                        file_content = f.read().decode(\"utf-8\")\n",
    "                        df = pd.read_csv(StringIO(file_content),sep=\"\\t\",header=None).set_index(0)\n",
    "                        df.columns = [files[0]]\n",
    "                        df.to_csv(os.path.join(uncomp_gz_dir,file[:-3]),header=False,sep=\",\",index=True)\n",
    "                        \n",
    "        self.data_save()\n",
    "                        \n",
    "    def data_save(self):\n",
    "        #initialize/clear gene epression data matrix\n",
    "        self.data = pd.DataFrame()\n",
    "        \n",
    "        uncomp_targz_dir = os.path.join(self.query_dir,\"uncompressed_targz\")\n",
    "        uncomp_gz_dir = os.path.join(uncomp_targz_dir,\"uncompressed_gz\")\n",
    "        #Stores the manifest of the data \n",
    "        self.manifest = pd.read_table(os.path.join(uncomp_targz_dir,\"MANIFEST.txt\"),sep=\"\\t\")\n",
    "            \n",
    "        for subdir, dirs, files in os.walk(self.query_dir):\n",
    "            for file in files:\n",
    "                if file[-4:] == \"unts\":\n",
    "                    df = pd.read_csv(os.path.join(uncomp_gz_dir,file),sep=\",\",header=None).set_index(0)\n",
    "                    df.columns = [file]\n",
    "                    self.data = pd.concat([self.data,df],axis=1)\n",
    "                                \n",
    "    def data_add(self,data):\n",
    "            self.data = data"
   ]
  },
  {
   "cell_type": "code",
   "execution_count": 240,
   "metadata": {
    "collapsed": false
   },
   "outputs": [],
   "source": [
    "test = gdc_data(\"LIHC20\")"
   ]
  },
  {
   "cell_type": "code",
   "execution_count": 242,
   "metadata": {
    "collapsed": false
   },
   "outputs": [],
   "source": [
    "test.data_write()"
   ]
  },
  {
   "cell_type": "code",
   "execution_count": 244,
   "metadata": {
    "collapsed": true
   },
   "outputs": [],
   "source": [
    "test.data_save()"
   ]
  },
  {
   "cell_type": "code",
   "execution_count": 248,
   "metadata": {
    "collapsed": false
   },
   "outputs": [
    {
     "data": {
      "text/plain": [
       "(60488, 20)"
      ]
     },
     "execution_count": 248,
     "metadata": {},
     "output_type": "execute_result"
    }
   ],
   "source": [
    "test.data.shape"
   ]
  },
  {
   "cell_type": "code",
   "execution_count": 233,
   "metadata": {
    "collapsed": false
   },
   "outputs": [
    {
     "data": {
      "text/plain": [
       "False"
      ]
     },
     "execution_count": 233,
     "metadata": {},
     "output_type": "execute_result"
    }
   ],
   "source": [
    "not test.file_name and not test.response"
   ]
  },
  {
   "cell_type": "code",
   "execution_count": null,
   "metadata": {
    "collapsed": false
   },
   "outputs": [],
   "source": []
  },
  {
   "cell_type": "code",
   "execution_count": null,
   "metadata": {
    "collapsed": true
   },
   "outputs": [],
   "source": []
  }
 ],
 "metadata": {
  "anaconda-cloud": {},
  "kernelspec": {
   "display_name": "Python [Root]",
   "language": "python",
   "name": "Python [Root]"
  },
  "language_info": {
   "codemirror_mode": {
    "name": "ipython",
    "version": 3
   },
   "file_extension": ".py",
   "mimetype": "text/x-python",
   "name": "python",
   "nbconvert_exporter": "python",
   "pygments_lexer": "ipython3",
   "version": "3.5.2"
  }
 },
 "nbformat": 4,
 "nbformat_minor": 2
}
