{
 "cells": [
  {
   "cell_type": "code",
   "execution_count": 3,
   "metadata": {
    "collapsed": true
   },
   "outputs": [],
   "source": [
    "import requests\n",
    "import json\n",
    "import re\n",
    "import gzip\n",
    "import pandas as pd\n",
    "import tarfile\n",
    "import os\n",
    "import sys\n",
    "import shutil\n",
    "import numpy as np\n",
    "import tarfile\n",
    "import io\n",
    "from io import StringIO"
   ]
  },
  {
   "cell_type": "code",
   "execution_count": 8,
   "metadata": {
    "collapsed": true
   },
   "outputs": [],
   "source": [
    "def gdc_query(cancer):\n",
    "    '''\n",
    "    Performs a query of the NCI genomic portal given a type of cancer.\n",
    "    Hepatocellular Carcinoma - LIHC\n",
    "    Returns the name of compressed tar.gz file, and a binary data file\n",
    "\n",
    "    '''\n",
    "    files_endpt = \"https://api.gdc.cancer.gov/files\"\n",
    "\n",
    "    #Filters for the query, recieving all RNA-Seq, HTSeq-Count files for a specific cancer\n",
    "    filters = {\n",
    "        \"op\": \"and\",\n",
    "        \"content\":[\n",
    "            {\n",
    "            \"op\": \"in\",\n",
    "            \"content\":{\n",
    "                \"field\": \"cases.project.project_id\",\n",
    "                \"value\": [\"TCGA-\"+cancer]\n",
    "                }\n",
    "            },\n",
    "            {\n",
    "            \"op\": \"in\",\n",
    "            \"content\":{\n",
    "                \"field\": \"files.experimental_strategy\",\n",
    "                \"value\": [\"RNA-Seq\"]\n",
    "                }\n",
    "            },\n",
    "            {\n",
    "            \"op\": \"in\",\n",
    "            \"content\":{\n",
    "                \"field\": \"files.analysis.workflow_type\",\n",
    "                \"value\": [\"HTSeq - Counts\"]\n",
    "                }\n",
    "            }\n",
    "        ]\n",
    "    }\n",
    "\n",
    "    # Here a GET is used, so the filter parameters should be passed as a JSON string.\n",
    "    params = {\n",
    "        \"filters\": json.dumps(filters),\n",
    "        \"fields\": \"file_id\",\n",
    "        \"format\": \"JSON\",\n",
    "        \"size\": \"10\" #Set to the first 10 files for developing\n",
    "        }\n",
    "\n",
    "    response = requests.get(files_endpt, params = params)\n",
    "    file_uuid_list = []\n",
    "\n",
    "    # This step populates the download list with the file_ids from the previous query\n",
    "    for file_entry in json.loads(response.content.decode(\"utf-8\"))[\"data\"][\"hits\"]:\n",
    "        file_uuid_list.append(file_entry[\"file_id\"])\n",
    "\n",
    "    data_endpt = \"https://api.gdc.cancer.gov/data\"\n",
    "\n",
    "    params = {\"ids\": file_uuid_list}\n",
    "\n",
    "    response = requests.post(data_endpt, data = json.dumps(params), headers = {\"Content-Type\": \"application/json\"})\n",
    "\n",
    "    response_head_cd = response.headers[\"Content-Disposition\"]\n",
    "\n",
    "    file_name = re.findall(\"filename=(.+)\", response_head_cd)[0]\n",
    "\n",
    "    #with open(file_name, \"wb\") as output_file:\n",
    "     #   output_file.write(response.content)\n",
    "\n",
    "    return file_name,response"
   ]
  },
  {
   "cell_type": "code",
   "execution_count": null,
   "metadata": {
    "collapsed": true
   },
   "outputs": [],
   "source": []
  },
  {
   "cell_type": "code",
   "execution_count": null,
   "metadata": {
    "collapsed": true
   },
   "outputs": [],
   "source": []
  },
  {
   "cell_type": "code",
   "execution_count": null,
   "metadata": {
    "collapsed": false
   },
   "outputs": [],
   "source": []
  },
  {
   "cell_type": "code",
   "execution_count": 8,
   "metadata": {
    "collapsed": false
   },
   "outputs": [
    {
     "data": {
      "text/html": [
       "<div>\n",
       "<style>\n",
       "    .dataframe thead tr:only-child th {\n",
       "        text-align: right;\n",
       "    }\n",
       "\n",
       "    .dataframe thead th {\n",
       "        text-align: left;\n",
       "    }\n",
       "\n",
       "    .dataframe tbody tr th {\n",
       "        vertical-align: top;\n",
       "    }\n",
       "</style>\n",
       "<table border=\"1\" class=\"dataframe\">\n",
       "  <thead>\n",
       "    <tr style=\"text-align: right;\">\n",
       "      <th></th>\n",
       "      <th>0</th>\n",
       "      <th>1</th>\n",
       "      <th>2</th>\n",
       "      <th>3</th>\n",
       "      <th>4</th>\n",
       "      <th>5</th>\n",
       "      <th>6</th>\n",
       "      <th>7</th>\n",
       "      <th>8</th>\n",
       "      <th>9</th>\n",
       "    </tr>\n",
       "  </thead>\n",
       "  <tbody>\n",
       "    <tr>\n",
       "      <th>0</th>\n",
       "      <td>0.735781</td>\n",
       "      <td>0.518014</td>\n",
       "      <td>0.271766</td>\n",
       "      <td>0.396838</td>\n",
       "      <td>0.292724</td>\n",
       "      <td>0.600595</td>\n",
       "      <td>0.687681</td>\n",
       "      <td>0.078576</td>\n",
       "      <td>0.048284</td>\n",
       "      <td>0.636957</td>\n",
       "    </tr>\n",
       "    <tr>\n",
       "      <th>1</th>\n",
       "      <td>0.252816</td>\n",
       "      <td>0.173767</td>\n",
       "      <td>0.172138</td>\n",
       "      <td>0.900633</td>\n",
       "      <td>0.990428</td>\n",
       "      <td>0.725270</td>\n",
       "      <td>0.828101</td>\n",
       "      <td>0.453770</td>\n",
       "      <td>0.491147</td>\n",
       "      <td>0.197787</td>\n",
       "    </tr>\n",
       "    <tr>\n",
       "      <th>2</th>\n",
       "      <td>0.155883</td>\n",
       "      <td>0.018023</td>\n",
       "      <td>0.849573</td>\n",
       "      <td>0.999709</td>\n",
       "      <td>0.093454</td>\n",
       "      <td>0.629949</td>\n",
       "      <td>0.276623</td>\n",
       "      <td>0.759548</td>\n",
       "      <td>0.381217</td>\n",
       "      <td>0.953016</td>\n",
       "    </tr>\n",
       "    <tr>\n",
       "      <th>3</th>\n",
       "      <td>0.333801</td>\n",
       "      <td>0.337605</td>\n",
       "      <td>0.483950</td>\n",
       "      <td>0.014518</td>\n",
       "      <td>0.116226</td>\n",
       "      <td>0.349993</td>\n",
       "      <td>0.377736</td>\n",
       "      <td>0.108378</td>\n",
       "      <td>0.381762</td>\n",
       "      <td>0.297364</td>\n",
       "    </tr>\n",
       "    <tr>\n",
       "      <th>4</th>\n",
       "      <td>0.163961</td>\n",
       "      <td>0.828238</td>\n",
       "      <td>0.268290</td>\n",
       "      <td>0.214402</td>\n",
       "      <td>0.392169</td>\n",
       "      <td>0.773153</td>\n",
       "      <td>0.595262</td>\n",
       "      <td>0.931022</td>\n",
       "      <td>0.642625</td>\n",
       "      <td>0.103817</td>\n",
       "    </tr>\n",
       "  </tbody>\n",
       "</table>\n",
       "</div>"
      ],
      "text/plain": [
       "          0         1         2         3         4         5         6  \\\n",
       "0  0.735781  0.518014  0.271766  0.396838  0.292724  0.600595  0.687681   \n",
       "1  0.252816  0.173767  0.172138  0.900633  0.990428  0.725270  0.828101   \n",
       "2  0.155883  0.018023  0.849573  0.999709  0.093454  0.629949  0.276623   \n",
       "3  0.333801  0.337605  0.483950  0.014518  0.116226  0.349993  0.377736   \n",
       "4  0.163961  0.828238  0.268290  0.214402  0.392169  0.773153  0.595262   \n",
       "\n",
       "          7         8         9  \n",
       "0  0.078576  0.048284  0.636957  \n",
       "1  0.453770  0.491147  0.197787  \n",
       "2  0.759548  0.381217  0.953016  \n",
       "3  0.108378  0.381762  0.297364  \n",
       "4  0.931022  0.642625  0.103817  "
      ]
     },
     "execution_count": 8,
     "metadata": {},
     "output_type": "execute_result"
    }
   ],
   "source": [
    "apple = pd.DataFrame(np.random.rand(10,10))\n",
    "apple.head()"
   ]
  },
  {
   "cell_type": "code",
   "execution_count": 11,
   "metadata": {
    "collapsed": false
   },
   "outputs": [
    {
     "data": {
      "text/plain": [
       "RangeIndex(start=0, stop=10, step=1)"
      ]
     },
     "execution_count": 11,
     "metadata": {},
     "output_type": "execute_result"
    }
   ],
   "source": [
    "apple.columns"
   ]
  },
  {
   "cell_type": "code",
   "execution_count": 9,
   "metadata": {
    "collapsed": false
   },
   "outputs": [],
   "source": [
    "#Acquires the file_name and the data from the query in \"response\"\n",
    "file_name,response = gdc_query(\"LIHC\")"
   ]
  },
  {
   "cell_type": "code",
   "execution_count": 318,
   "metadata": {
    "collapsed": true
   },
   "outputs": [],
   "source": [
    "#location of compressed data file\n",
    "comp_data = os.path.join(\"./test_data/\",file_name)"
   ]
  },
  {
   "cell_type": "code",
   "execution_count": 319,
   "metadata": {
    "collapsed": true
   },
   "outputs": [],
   "source": [
    "#Opens a file named after the file_name, and writes the contents of the query to the file\n",
    "if not os.path.exists(\"./test_data/\"):\n",
    "    os.makedirs(\"./test_data/\")\n",
    "with open(comp_data, \"wb\") as output_file:\n",
    "    output_file.write(response.content)"
   ]
  },
  {
   "cell_type": "code",
   "execution_count": 320,
   "metadata": {
    "collapsed": true
   },
   "outputs": [],
   "source": [
    "#Unzips the tar.gz file that was generated into a test data subdirectory\n",
    "with tarfile.open(comp_data) as tar:\n",
    "    tar.extractall(\"./test_data/\")\n",
    "    tar.close()"
   ]
  },
  {
   "cell_type": "code",
   "execution_count": null,
   "metadata": {
    "collapsed": true
   },
   "outputs": [],
   "source": []
  },
  {
   "cell_type": "code",
   "execution_count": 321,
   "metadata": {
    "collapsed": true
   },
   "outputs": [],
   "source": [
    "#unzips .gz files\n",
    "#with gzip.open(file_name, 'rb') as f:\n",
    "#    file_content = f.read()"
   ]
  },
  {
   "cell_type": "code",
   "execution_count": 322,
   "metadata": {
    "collapsed": true
   },
   "outputs": [],
   "source": [
    "#Stores the manifest of the data \n",
    "manifest = pd.read_table(\"./test_data/MANIFEST.txt\",sep=\"\\t\")"
   ]
  },
  {
   "cell_type": "code",
   "execution_count": 323,
   "metadata": {
    "collapsed": false
   },
   "outputs": [
    {
     "data": {
      "text/plain": [
       "['407950b7-f2b7-4db5-bc3c-f50934cb98ac',\n",
       " '40f80afd-b6aa-4ec2-8f0c-63d950213323',\n",
       " '4d7b644e-68ee-4405-af57-2af04313e87a',\n",
       " '4db947b5-44bc-49ac-812b-ec7d6faa4d30',\n",
       " '5d06b081-fd28-4fd7-90c7-2c00539f427b',\n",
       " '71011088-1831-47d5-83d9-d32029c67430',\n",
       " 'a281dee6-0cc3-44a2-b323-ebfd9b805f7e',\n",
       " 'b1bd62fa-e635-4b48-ad1b-66bb3103ab11',\n",
       " 'e19fc1b6-7957-4c6e-9e54-b6ea3319cedf',\n",
       " 'fd550345-ee15-4388-8a33-aae89d5312e1',\n",
       " 'gdc_download_20180226_225051.tar.gz',\n",
       " 'MANIFEST.txt']"
      ]
     },
     "execution_count": 323,
     "metadata": {},
     "output_type": "execute_result"
    }
   ],
   "source": [
    "os.listdir(\"./test_data\")"
   ]
  },
  {
   "cell_type": "code",
   "execution_count": null,
   "metadata": {
    "collapsed": true
   },
   "outputs": [],
   "source": []
  },
  {
   "cell_type": "code",
   "execution_count": 13,
   "metadata": {
    "collapsed": false
   },
   "outputs": [
    {
     "ename": "NameError",
     "evalue": "name 'StringIO' is not defined",
     "output_type": "error",
     "traceback": [
      "\u001b[1;31m---------------------------------------------------------------------------\u001b[0m",
      "\u001b[1;31mNameError\u001b[0m                                 Traceback (most recent call last)",
      "\u001b[1;32m<ipython-input-13-bab5b5da736f>\u001b[0m in \u001b[0;36m<module>\u001b[1;34m()\u001b[0m\n\u001b[0;32m      8\u001b[0m             \u001b[1;32mwith\u001b[0m \u001b[0mgzip\u001b[0m\u001b[1;33m.\u001b[0m\u001b[0mopen\u001b[0m\u001b[1;33m(\u001b[0m\u001b[0mos\u001b[0m\u001b[1;33m.\u001b[0m\u001b[0mpath\u001b[0m\u001b[1;33m.\u001b[0m\u001b[0mjoin\u001b[0m\u001b[1;33m(\u001b[0m\u001b[0msubdir\u001b[0m\u001b[1;33m,\u001b[0m\u001b[0mfile\u001b[0m\u001b[1;33m)\u001b[0m\u001b[1;33m,\u001b[0m\u001b[1;34m'rb'\u001b[0m\u001b[1;33m)\u001b[0m \u001b[1;32mas\u001b[0m \u001b[0mf\u001b[0m\u001b[1;33m:\u001b[0m\u001b[1;33m\u001b[0m\u001b[0m\n\u001b[0;32m      9\u001b[0m                 \u001b[0mfile_content\u001b[0m \u001b[1;33m=\u001b[0m \u001b[0mf\u001b[0m\u001b[1;33m.\u001b[0m\u001b[0mread\u001b[0m\u001b[1;33m(\u001b[0m\u001b[1;33m)\u001b[0m\u001b[1;33m.\u001b[0m\u001b[0mdecode\u001b[0m\u001b[1;33m(\u001b[0m\u001b[1;34m\"utf-8\"\u001b[0m\u001b[1;33m)\u001b[0m\u001b[1;33m\u001b[0m\u001b[0m\n\u001b[1;32m---> 10\u001b[1;33m                 \u001b[0mdf\u001b[0m \u001b[1;33m=\u001b[0m \u001b[0mpd\u001b[0m\u001b[1;33m.\u001b[0m\u001b[0mread_csv\u001b[0m\u001b[1;33m(\u001b[0m\u001b[0mStringIO\u001b[0m\u001b[1;33m(\u001b[0m\u001b[0mfile_content\u001b[0m\u001b[1;33m)\u001b[0m\u001b[1;33m,\u001b[0m\u001b[0msep\u001b[0m\u001b[1;33m=\u001b[0m\u001b[1;34m\"\\t\"\u001b[0m\u001b[1;33m,\u001b[0m\u001b[0mheader\u001b[0m\u001b[1;33m=\u001b[0m\u001b[1;32mNone\u001b[0m\u001b[1;33m)\u001b[0m\u001b[1;33m.\u001b[0m\u001b[0mset_index\u001b[0m\u001b[1;33m(\u001b[0m\u001b[1;36m0\u001b[0m\u001b[1;33m)\u001b[0m\u001b[1;33m\u001b[0m\u001b[0m\n\u001b[0m\u001b[0;32m     11\u001b[0m                 \u001b[0mdf\u001b[0m\u001b[1;33m.\u001b[0m\u001b[0mcolumns\u001b[0m \u001b[1;33m=\u001b[0m \u001b[1;33m[\u001b[0m\u001b[0mfiles\u001b[0m\u001b[1;33m[\u001b[0m\u001b[1;36m0\u001b[0m\u001b[1;33m]\u001b[0m\u001b[1;33m]\u001b[0m\u001b[1;33m\u001b[0m\u001b[0m\n\u001b[0;32m     12\u001b[0m                 \u001b[0mdata\u001b[0m \u001b[1;33m=\u001b[0m \u001b[0mpd\u001b[0m\u001b[1;33m.\u001b[0m\u001b[0mconcat\u001b[0m\u001b[1;33m(\u001b[0m\u001b[1;33m[\u001b[0m\u001b[0mdata\u001b[0m\u001b[1;33m,\u001b[0m\u001b[0mdf\u001b[0m\u001b[1;33m]\u001b[0m\u001b[1;33m,\u001b[0m\u001b[0maxis\u001b[0m\u001b[1;33m=\u001b[0m\u001b[1;36m1\u001b[0m\u001b[1;33m)\u001b[0m\u001b[1;33m\u001b[0m\u001b[0m\n",
      "\u001b[1;31mNameError\u001b[0m: name 'StringIO' is not defined"
     ]
    }
   ],
   "source": [
    "uncomp_data = os.path.join(os.getcwd(),\"./test_data/uncompressed_data/\")\n",
    "data = pd.DataFrame()\n",
    "if not os.path.exists(uncomp_data):\n",
    "    os.makedirs((\"./test_data/uncompressed_data\"))\n",
    "for subdir, dirs, files in os.walk(\"./test_data/\"):\n",
    "    for file in files:\n",
    "        if file[-4:] == \"s.gz\":\n",
    "            with gzip.open(os.path.join(subdir,file),'rb') as f:\n",
    "                file_content = f.read().decode(\"utf-8\")\n",
    "                df = pd.read_csv(StringIO(file_content),sep=\"\\t\",header=None).set_index(0)\n",
    "                df.columns = [files[0]]\n",
    "                data = pd.concat([data,df],axis=1)\n",
    "                #df.to_csv(os.path.join(\"./test_data/uncompressed_data/\",file[:-3]),header=False,sep=\",\",index=False)"
   ]
  },
  {
   "cell_type": "code",
   "execution_count": 14,
   "metadata": {
    "collapsed": false
   },
   "outputs": [
    {
     "data": {
      "text/html": [
       "<div>\n",
       "<style>\n",
       "    .dataframe thead tr:only-child th {\n",
       "        text-align: right;\n",
       "    }\n",
       "\n",
       "    .dataframe thead th {\n",
       "        text-align: left;\n",
       "    }\n",
       "\n",
       "    .dataframe tbody tr th {\n",
       "        vertical-align: top;\n",
       "    }\n",
       "</style>\n",
       "<table border=\"1\" class=\"dataframe\">\n",
       "  <thead>\n",
       "    <tr style=\"text-align: right;\">\n",
       "      <th></th>\n",
       "    </tr>\n",
       "  </thead>\n",
       "  <tbody>\n",
       "  </tbody>\n",
       "</table>\n",
       "</div>"
      ],
      "text/plain": [
       "Empty DataFrame\n",
       "Columns: []\n",
       "Index: []"
      ]
     },
     "execution_count": 14,
     "metadata": {},
     "output_type": "execute_result"
    }
   ],
   "source": [
    "data.head()"
   ]
  },
  {
   "cell_type": "code",
   "execution_count": 414,
   "metadata": {
    "collapsed": false
   },
   "outputs": [
    {
     "data": {
      "text/html": [
       "<div>\n",
       "<style>\n",
       "    .dataframe thead tr:only-child th {\n",
       "        text-align: right;\n",
       "    }\n",
       "\n",
       "    .dataframe thead th {\n",
       "        text-align: left;\n",
       "    }\n",
       "\n",
       "    .dataframe tbody tr th {\n",
       "        vertical-align: top;\n",
       "    }\n",
       "</style>\n",
       "<table border=\"1\" class=\"dataframe\">\n",
       "  <thead>\n",
       "    <tr style=\"text-align: right;\">\n",
       "      <th></th>\n",
       "      <th>id</th>\n",
       "      <th>filename</th>\n",
       "      <th>md5</th>\n",
       "      <th>size</th>\n",
       "      <th>state</th>\n",
       "    </tr>\n",
       "  </thead>\n",
       "  <tbody>\n",
       "    <tr>\n",
       "      <th>0</th>\n",
       "      <td>407950b7-f2b7-4db5-bc3c-f50934cb98ac</td>\n",
       "      <td>407950b7-f2b7-4db5-bc3c-f50934cb98ac/7807318b-...</td>\n",
       "      <td>37df987c6491bd2953a84d7f1a0115c0</td>\n",
       "      <td>242525</td>\n",
       "      <td>live</td>\n",
       "    </tr>\n",
       "    <tr>\n",
       "      <th>1</th>\n",
       "      <td>40f80afd-b6aa-4ec2-8f0c-63d950213323</td>\n",
       "      <td>40f80afd-b6aa-4ec2-8f0c-63d950213323/f6ae6ac1-...</td>\n",
       "      <td>a5778e0fbeea4c07b88b48303b889b50</td>\n",
       "      <td>252517</td>\n",
       "      <td>live</td>\n",
       "    </tr>\n",
       "    <tr>\n",
       "      <th>2</th>\n",
       "      <td>4d7b644e-68ee-4405-af57-2af04313e87a</td>\n",
       "      <td>4d7b644e-68ee-4405-af57-2af04313e87a/554f6de3-...</td>\n",
       "      <td>bd21167b0a2099bfb56bcb96cd58a7e6</td>\n",
       "      <td>246883</td>\n",
       "      <td>live</td>\n",
       "    </tr>\n",
       "    <tr>\n",
       "      <th>3</th>\n",
       "      <td>4db947b5-44bc-49ac-812b-ec7d6faa4d30</td>\n",
       "      <td>4db947b5-44bc-49ac-812b-ec7d6faa4d30/687e7d1d-...</td>\n",
       "      <td>a94014b1f2bd7164b67368b6b9049857</td>\n",
       "      <td>248646</td>\n",
       "      <td>live</td>\n",
       "    </tr>\n",
       "    <tr>\n",
       "      <th>4</th>\n",
       "      <td>5d06b081-fd28-4fd7-90c7-2c00539f427b</td>\n",
       "      <td>5d06b081-fd28-4fd7-90c7-2c00539f427b/e8aae9c3-...</td>\n",
       "      <td>5fff9a50b12ae7f7b97e99e4b9d500a2</td>\n",
       "      <td>246383</td>\n",
       "      <td>live</td>\n",
       "    </tr>\n",
       "    <tr>\n",
       "      <th>5</th>\n",
       "      <td>71011088-1831-47d5-83d9-d32029c67430</td>\n",
       "      <td>71011088-1831-47d5-83d9-d32029c67430/a2a12535-...</td>\n",
       "      <td>97ee461819d716703953f09678e712fb</td>\n",
       "      <td>244379</td>\n",
       "      <td>live</td>\n",
       "    </tr>\n",
       "    <tr>\n",
       "      <th>6</th>\n",
       "      <td>a281dee6-0cc3-44a2-b323-ebfd9b805f7e</td>\n",
       "      <td>a281dee6-0cc3-44a2-b323-ebfd9b805f7e/f32c1def-...</td>\n",
       "      <td>04076649e9a05d161ffba7afb9dc0da7</td>\n",
       "      <td>247240</td>\n",
       "      <td>live</td>\n",
       "    </tr>\n",
       "    <tr>\n",
       "      <th>7</th>\n",
       "      <td>b1bd62fa-e635-4b48-ad1b-66bb3103ab11</td>\n",
       "      <td>b1bd62fa-e635-4b48-ad1b-66bb3103ab11/7097ca31-...</td>\n",
       "      <td>8f0aa13e5f67ab793e654185592a843b</td>\n",
       "      <td>239686</td>\n",
       "      <td>live</td>\n",
       "    </tr>\n",
       "    <tr>\n",
       "      <th>8</th>\n",
       "      <td>e19fc1b6-7957-4c6e-9e54-b6ea3319cedf</td>\n",
       "      <td>e19fc1b6-7957-4c6e-9e54-b6ea3319cedf/5fe28ffa-...</td>\n",
       "      <td>6f56d29547220bdf70ec34d018352dad</td>\n",
       "      <td>251961</td>\n",
       "      <td>live</td>\n",
       "    </tr>\n",
       "    <tr>\n",
       "      <th>9</th>\n",
       "      <td>fd550345-ee15-4388-8a33-aae89d5312e1</td>\n",
       "      <td>fd550345-ee15-4388-8a33-aae89d5312e1/0fc6f38a-...</td>\n",
       "      <td>e5df4067c4421ceae1e2b68190c5df82</td>\n",
       "      <td>248192</td>\n",
       "      <td>live</td>\n",
       "    </tr>\n",
       "  </tbody>\n",
       "</table>\n",
       "</div>"
      ],
      "text/plain": [
       "                                     id  \\\n",
       "0  407950b7-f2b7-4db5-bc3c-f50934cb98ac   \n",
       "1  40f80afd-b6aa-4ec2-8f0c-63d950213323   \n",
       "2  4d7b644e-68ee-4405-af57-2af04313e87a   \n",
       "3  4db947b5-44bc-49ac-812b-ec7d6faa4d30   \n",
       "4  5d06b081-fd28-4fd7-90c7-2c00539f427b   \n",
       "5  71011088-1831-47d5-83d9-d32029c67430   \n",
       "6  a281dee6-0cc3-44a2-b323-ebfd9b805f7e   \n",
       "7  b1bd62fa-e635-4b48-ad1b-66bb3103ab11   \n",
       "8  e19fc1b6-7957-4c6e-9e54-b6ea3319cedf   \n",
       "9  fd550345-ee15-4388-8a33-aae89d5312e1   \n",
       "\n",
       "                                            filename  \\\n",
       "0  407950b7-f2b7-4db5-bc3c-f50934cb98ac/7807318b-...   \n",
       "1  40f80afd-b6aa-4ec2-8f0c-63d950213323/f6ae6ac1-...   \n",
       "2  4d7b644e-68ee-4405-af57-2af04313e87a/554f6de3-...   \n",
       "3  4db947b5-44bc-49ac-812b-ec7d6faa4d30/687e7d1d-...   \n",
       "4  5d06b081-fd28-4fd7-90c7-2c00539f427b/e8aae9c3-...   \n",
       "5  71011088-1831-47d5-83d9-d32029c67430/a2a12535-...   \n",
       "6  a281dee6-0cc3-44a2-b323-ebfd9b805f7e/f32c1def-...   \n",
       "7  b1bd62fa-e635-4b48-ad1b-66bb3103ab11/7097ca31-...   \n",
       "8  e19fc1b6-7957-4c6e-9e54-b6ea3319cedf/5fe28ffa-...   \n",
       "9  fd550345-ee15-4388-8a33-aae89d5312e1/0fc6f38a-...   \n",
       "\n",
       "                                md5    size state  \n",
       "0  37df987c6491bd2953a84d7f1a0115c0  242525  live  \n",
       "1  a5778e0fbeea4c07b88b48303b889b50  252517  live  \n",
       "2  bd21167b0a2099bfb56bcb96cd58a7e6  246883  live  \n",
       "3  a94014b1f2bd7164b67368b6b9049857  248646  live  \n",
       "4  5fff9a50b12ae7f7b97e99e4b9d500a2  246383  live  \n",
       "5  97ee461819d716703953f09678e712fb  244379  live  \n",
       "6  04076649e9a05d161ffba7afb9dc0da7  247240  live  \n",
       "7  8f0aa13e5f67ab793e654185592a843b  239686  live  \n",
       "8  6f56d29547220bdf70ec34d018352dad  251961  live  \n",
       "9  e5df4067c4421ceae1e2b68190c5df82  248192  live  "
      ]
     },
     "execution_count": 414,
     "metadata": {},
     "output_type": "execute_result"
    }
   ],
   "source": [
    "manifest"
   ]
  },
  {
   "cell_type": "code",
   "execution_count": null,
   "metadata": {
    "collapsed": true
   },
   "outputs": [],
   "source": []
  },
  {
   "cell_type": "code",
   "execution_count": null,
   "metadata": {
    "collapsed": true,
    "scrolled": true
   },
   "outputs": [],
   "source": []
  },
  {
   "cell_type": "code",
   "execution_count": null,
   "metadata": {
    "collapsed": true
   },
   "outputs": [],
   "source": []
  },
  {
   "cell_type": "code",
   "execution_count": null,
   "metadata": {
    "collapsed": true
   },
   "outputs": [],
   "source": []
  },
  {
   "cell_type": "code",
   "execution_count": null,
   "metadata": {
    "collapsed": true
   },
   "outputs": [],
   "source": []
  },
  {
   "cell_type": "code",
   "execution_count": null,
   "metadata": {
    "collapsed": true
   },
   "outputs": [],
   "source": []
  }
 ],
 "metadata": {
  "anaconda-cloud": {},
  "kernelspec": {
   "display_name": "Python [Root]",
   "language": "python",
   "name": "Python [Root]"
  },
  "language_info": {
   "codemirror_mode": {
    "name": "ipython",
    "version": 3
   },
   "file_extension": ".py",
   "mimetype": "text/x-python",
   "name": "python",
   "nbconvert_exporter": "python",
   "pygments_lexer": "ipython3",
   "version": "3.5.2"
  }
 },
 "nbformat": 4,
 "nbformat_minor": 2
}
